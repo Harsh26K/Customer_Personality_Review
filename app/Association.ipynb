{
 "cells": [
  {
   "cell_type": "code",
   "execution_count": 1,
   "source": [
    "import numpy as np\r\n",
    "import pandas as pd\r\n",
    "import seaborn as sns\r\n",
    "import sklearn\r\n",
    "import mlxtend\r\n",
    "import pickle\r\n",
    "\r\n",
    "pd.pandas.set_option('display.max_columns',None)\r\n",
    "sns.set()\r\n",
    "\r\n",
    "import warnings\r\n",
    "warnings.filterwarnings('ignore')"
   ],
   "outputs": [],
   "metadata": {}
  },
  {
   "cell_type": "code",
   "execution_count": 2,
   "source": [
    "dataset = pd.read_csv('cluster_dataset.csv')\r\n",
    "dataset.head()"
   ],
   "outputs": [
    {
     "output_type": "execute_result",
     "data": {
      "text/html": [
       "<div>\n",
       "<style scoped>\n",
       "    .dataframe tbody tr th:only-of-type {\n",
       "        vertical-align: middle;\n",
       "    }\n",
       "\n",
       "    .dataframe tbody tr th {\n",
       "        vertical-align: top;\n",
       "    }\n",
       "\n",
       "    .dataframe thead th {\n",
       "        text-align: right;\n",
       "    }\n",
       "</style>\n",
       "<table border=\"1\" class=\"dataframe\">\n",
       "  <thead>\n",
       "    <tr style=\"text-align: right;\">\n",
       "      <th></th>\n",
       "      <th>Education</th>\n",
       "      <th>Marital_Status</th>\n",
       "      <th>Income</th>\n",
       "      <th>Recency</th>\n",
       "      <th>Wines</th>\n",
       "      <th>Fruits</th>\n",
       "      <th>Meat</th>\n",
       "      <th>Fish</th>\n",
       "      <th>Sweets</th>\n",
       "      <th>Gold</th>\n",
       "      <th>HasChild</th>\n",
       "      <th>Children</th>\n",
       "      <th>Age</th>\n",
       "      <th>TotalAmtSpent</th>\n",
       "      <th>Relation</th>\n",
       "      <th>Clusters</th>\n",
       "    </tr>\n",
       "  </thead>\n",
       "  <tbody>\n",
       "    <tr>\n",
       "      <th>0</th>\n",
       "      <td>Grad</td>\n",
       "      <td>Single</td>\n",
       "      <td>58138.0</td>\n",
       "      <td>58</td>\n",
       "      <td>635</td>\n",
       "      <td>88</td>\n",
       "      <td>546</td>\n",
       "      <td>172</td>\n",
       "      <td>88</td>\n",
       "      <td>88</td>\n",
       "      <td>no child</td>\n",
       "      <td>0</td>\n",
       "      <td>64</td>\n",
       "      <td>1617</td>\n",
       "      <td>110.100000</td>\n",
       "      <td>Stars</td>\n",
       "    </tr>\n",
       "    <tr>\n",
       "      <th>1</th>\n",
       "      <td>Grad</td>\n",
       "      <td>Single</td>\n",
       "      <td>46344.0</td>\n",
       "      <td>38</td>\n",
       "      <td>11</td>\n",
       "      <td>1</td>\n",
       "      <td>6</td>\n",
       "      <td>2</td>\n",
       "      <td>1</td>\n",
       "      <td>6</td>\n",
       "      <td>child</td>\n",
       "      <td>2</td>\n",
       "      <td>67</td>\n",
       "      <td>27</td>\n",
       "      <td>91.766667</td>\n",
       "      <td>Need Attention</td>\n",
       "    </tr>\n",
       "    <tr>\n",
       "      <th>2</th>\n",
       "      <td>Grad</td>\n",
       "      <td>Married</td>\n",
       "      <td>71613.0</td>\n",
       "      <td>26</td>\n",
       "      <td>426</td>\n",
       "      <td>49</td>\n",
       "      <td>127</td>\n",
       "      <td>111</td>\n",
       "      <td>21</td>\n",
       "      <td>42</td>\n",
       "      <td>no child</td>\n",
       "      <td>0</td>\n",
       "      <td>56</td>\n",
       "      <td>776</td>\n",
       "      <td>98.400000</td>\n",
       "      <td>High Potential</td>\n",
       "    </tr>\n",
       "    <tr>\n",
       "      <th>3</th>\n",
       "      <td>Grad</td>\n",
       "      <td>Married</td>\n",
       "      <td>26646.0</td>\n",
       "      <td>26</td>\n",
       "      <td>11</td>\n",
       "      <td>4</td>\n",
       "      <td>20</td>\n",
       "      <td>10</td>\n",
       "      <td>3</td>\n",
       "      <td>5</td>\n",
       "      <td>child</td>\n",
       "      <td>1</td>\n",
       "      <td>37</td>\n",
       "      <td>53</td>\n",
       "      <td>92.633333</td>\n",
       "      <td>Need Attention</td>\n",
       "    </tr>\n",
       "    <tr>\n",
       "      <th>4</th>\n",
       "      <td>PGrad</td>\n",
       "      <td>Married</td>\n",
       "      <td>58293.0</td>\n",
       "      <td>94</td>\n",
       "      <td>173</td>\n",
       "      <td>43</td>\n",
       "      <td>118</td>\n",
       "      <td>46</td>\n",
       "      <td>27</td>\n",
       "      <td>15</td>\n",
       "      <td>child</td>\n",
       "      <td>1</td>\n",
       "      <td>40</td>\n",
       "      <td>422</td>\n",
       "      <td>93.366667</td>\n",
       "      <td>Need Attention</td>\n",
       "    </tr>\n",
       "  </tbody>\n",
       "</table>\n",
       "</div>"
      ],
      "text/plain": [
       "  Education Marital_Status   Income  Recency  Wines  Fruits  Meat  Fish  \\\n",
       "0      Grad         Single  58138.0       58    635      88   546   172   \n",
       "1      Grad         Single  46344.0       38     11       1     6     2   \n",
       "2      Grad        Married  71613.0       26    426      49   127   111   \n",
       "3      Grad        Married  26646.0       26     11       4    20    10   \n",
       "4     PGrad        Married  58293.0       94    173      43   118    46   \n",
       "\n",
       "   Sweets  Gold  HasChild  Children  Age  TotalAmtSpent    Relation  \\\n",
       "0      88    88  no child         0   64           1617  110.100000   \n",
       "1       1     6     child         2   67             27   91.766667   \n",
       "2      21    42  no child         0   56            776   98.400000   \n",
       "3       3     5     child         1   37             53   92.633333   \n",
       "4      27    15     child         1   40            422   93.366667   \n",
       "\n",
       "         Clusters  \n",
       "0           Stars  \n",
       "1  Need Attention  \n",
       "2  High Potential  \n",
       "3  Need Attention  \n",
       "4  Need Attention  "
      ]
     },
     "metadata": {},
     "execution_count": 2
    }
   ],
   "metadata": {}
  },
  {
   "cell_type": "code",
   "execution_count": 3,
   "source": [
    "data = dataset.copy(deep=True)"
   ],
   "outputs": [],
   "metadata": {}
  },
  {
   "cell_type": "markdown",
   "source": [
    "We will create different groups w.r.t Age, Income to help us analyze the customers.  "
   ],
   "metadata": {}
  },
  {
   "cell_type": "code",
   "execution_count": 4,
   "source": [
    "labels_age = ['Young','Adult','Mature','Senior']\r\n",
    "bins_age = [0,30,50,70,120]\r\n",
    "data['Age_Gr'] = pd.cut(data['Age'],bins=bins_age,labels=labels_age)"
   ],
   "outputs": [],
   "metadata": {}
  },
  {
   "cell_type": "code",
   "execution_count": 5,
   "source": [
    "labels_income = ['Low income','Low to Medium','Medium to High','High income']\r\n",
    "data['Income_Gr'] = pd.qcut(data['Income'],q=4,labels=labels_income)"
   ],
   "outputs": [],
   "metadata": {}
  },
  {
   "cell_type": "code",
   "execution_count": 6,
   "source": [
    "labels_relation = ['New','Discovering','Experienced','Old']\r\n",
    "data[\"Relation_Gr\"] = pd.qcut(data['Relation'],q=4,labels=labels_relation)"
   ],
   "outputs": [],
   "metadata": {}
  },
  {
   "cell_type": "markdown",
   "source": [
    "Now we will divide the customers with the frequency of buying particular product"
   ],
   "metadata": {}
  },
  {
   "cell_type": "code",
   "execution_count": 7,
   "source": [
    "cut_labels = ['Low Buyer','Normal Buyer','Frequent Buyer']\r\n",
    "data['Wines_seg'] = pd.qcut(data['Wines'],q=[0,0.25,0.75,1],labels=cut_labels).astype(\"object\")\r\n",
    "data['Fruits_seg'] = pd.qcut(data['Fruits'],q=[0,0.25,0.75,1],labels=cut_labels).astype(\"object\")\r\n",
    "data['Meat_seg'] = pd.qcut(data['Meat'],q=[0,0.25,0.75,1],labels=cut_labels).astype(\"object\")\r\n",
    "data['Fish_seg'] = pd.qcut(data['Fish'],q=[0,0.25,0.75,1],labels=cut_labels).astype(\"object\")\r\n",
    "data['Sweets_seg'] = pd.qcut(data['Sweets'],q=[0,0.25,0.75,1],labels=cut_labels).astype(\"object\")\r\n",
    "data['Gold_seg'] = pd.qcut(data['Gold'],q=[0,0.25,0.75,1],labels=cut_labels).astype(\"object\")\r\n",
    "data.replace(np.nan,\"Non Buyer\",inplace=True)\r\n",
    "data.drop(columns=['Age','Income','Relation','Wines','Fruits','Meat','Fish','Sweets','Gold'],inplace=True)\r\n",
    "data= data.astype(object)"
   ],
   "outputs": [],
   "metadata": {}
  },
  {
   "cell_type": "code",
   "execution_count": 8,
   "source": [
    "from mlxtend.frequent_patterns import apriori\r\n",
    "from mlxtend.frequent_patterns import association_rules"
   ],
   "outputs": [],
   "metadata": {}
  },
  {
   "cell_type": "code",
   "execution_count": 9,
   "source": [
    "association = data.copy()\r\n",
    "df = pd.get_dummies(association)"
   ],
   "outputs": [],
   "metadata": {}
  },
  {
   "cell_type": "code",
   "execution_count": 10,
   "source": [
    "min_support = 0.06\r\n",
    "max_length = 10\r\n",
    "frequent_items= apriori(df,min_support=min_support,use_colnames=True,max_len=max_length+1)\r\n",
    "rules=association_rules(frequent_items,metric='lift',min_threshold=1)"
   ],
   "outputs": [],
   "metadata": {}
  },
  {
   "cell_type": "code",
   "execution_count": 11,
   "source": [
    "with open('association.pkl','wb') as file:\r\n",
    "    pickle.dump(rules, file)"
   ],
   "outputs": [],
   "metadata": {}
  },
  {
   "cell_type": "code",
   "execution_count": 16,
   "source": [
    "with open(f'association.pkl','rb') as f:\r\n",
    "    model_association = pickle.load(f)"
   ],
   "outputs": [],
   "metadata": {}
  },
  {
   "cell_type": "code",
   "execution_count": 17,
   "source": [
    "product='Wines'\r\n",
    "segment='Frequent Buyer'\r\n",
    "target = '{\\'%s_seg_%s\\'}' %(product,segment)\r\n",
    "wine_association = model_association[model_association['consequents'].astype(str).str.contains(target, na=False)].sort_values(by='confidence', ascending=False)\r\n",
    "wine_association.head(5)"
   ],
   "outputs": [
    {
     "output_type": "execute_result",
     "data": {
      "text/html": [
       "<div>\n",
       "<style scoped>\n",
       "    .dataframe tbody tr th:only-of-type {\n",
       "        vertical-align: middle;\n",
       "    }\n",
       "\n",
       "    .dataframe tbody tr th {\n",
       "        vertical-align: top;\n",
       "    }\n",
       "\n",
       "    .dataframe thead th {\n",
       "        text-align: right;\n",
       "    }\n",
       "</style>\n",
       "<table border=\"1\" class=\"dataframe\">\n",
       "  <thead>\n",
       "    <tr style=\"text-align: right;\">\n",
       "      <th></th>\n",
       "      <th>antecedents</th>\n",
       "      <th>consequents</th>\n",
       "      <th>antecedent support</th>\n",
       "      <th>consequent support</th>\n",
       "      <th>support</th>\n",
       "      <th>confidence</th>\n",
       "      <th>lift</th>\n",
       "      <th>leverage</th>\n",
       "      <th>conviction</th>\n",
       "    </tr>\n",
       "  </thead>\n",
       "  <tbody>\n",
       "    <tr>\n",
       "      <th>2394</th>\n",
       "      <td>(Clusters_Stars, Education_PGrad)</td>\n",
       "      <td>(Wines_seg_Frequent Buyer)</td>\n",
       "      <td>0.099681</td>\n",
       "      <td>0.248976</td>\n",
       "      <td>0.076468</td>\n",
       "      <td>0.767123</td>\n",
       "      <td>3.081115</td>\n",
       "      <td>0.051650</td>\n",
       "      <td>3.224986</td>\n",
       "    </tr>\n",
       "    <tr>\n",
       "      <th>2466</th>\n",
       "      <td>(Income_Gr_High income, Education_PGrad)</td>\n",
       "      <td>(Wines_seg_Frequent Buyer)</td>\n",
       "      <td>0.093764</td>\n",
       "      <td>0.248976</td>\n",
       "      <td>0.071461</td>\n",
       "      <td>0.762136</td>\n",
       "      <td>3.061083</td>\n",
       "      <td>0.048116</td>\n",
       "      <td>3.157367</td>\n",
       "    </tr>\n",
       "    <tr>\n",
       "      <th>2512</th>\n",
       "      <td>(Meat_seg_Frequent Buyer, Education_PGrad)</td>\n",
       "      <td>(Wines_seg_Frequent Buyer)</td>\n",
       "      <td>0.089213</td>\n",
       "      <td>0.248976</td>\n",
       "      <td>0.064634</td>\n",
       "      <td>0.724490</td>\n",
       "      <td>2.909879</td>\n",
       "      <td>0.042422</td>\n",
       "      <td>2.725939</td>\n",
       "    </tr>\n",
       "    <tr>\n",
       "      <th>32753</th>\n",
       "      <td>(Meat_seg_Frequent Buyer, Income_Gr_High incom...</td>\n",
       "      <td>(Wines_seg_Frequent Buyer)</td>\n",
       "      <td>0.096495</td>\n",
       "      <td>0.248976</td>\n",
       "      <td>0.069185</td>\n",
       "      <td>0.716981</td>\n",
       "      <td>2.879721</td>\n",
       "      <td>0.045160</td>\n",
       "      <td>2.653619</td>\n",
       "    </tr>\n",
       "    <tr>\n",
       "      <th>8332</th>\n",
       "      <td>(Income_Gr_High income, Clusters_Stars)</td>\n",
       "      <td>(Wines_seg_Frequent Buyer)</td>\n",
       "      <td>0.122895</td>\n",
       "      <td>0.248976</td>\n",
       "      <td>0.086026</td>\n",
       "      <td>0.700000</td>\n",
       "      <td>2.811517</td>\n",
       "      <td>0.055429</td>\n",
       "      <td>2.503414</td>\n",
       "    </tr>\n",
       "  </tbody>\n",
       "</table>\n",
       "</div>"
      ],
      "text/plain": [
       "                                             antecedents  \\\n",
       "2394                   (Clusters_Stars, Education_PGrad)   \n",
       "2466            (Income_Gr_High income, Education_PGrad)   \n",
       "2512          (Meat_seg_Frequent Buyer, Education_PGrad)   \n",
       "32753  (Meat_seg_Frequent Buyer, Income_Gr_High incom...   \n",
       "8332             (Income_Gr_High income, Clusters_Stars)   \n",
       "\n",
       "                      consequents  antecedent support  consequent support  \\\n",
       "2394   (Wines_seg_Frequent Buyer)            0.099681            0.248976   \n",
       "2466   (Wines_seg_Frequent Buyer)            0.093764            0.248976   \n",
       "2512   (Wines_seg_Frequent Buyer)            0.089213            0.248976   \n",
       "32753  (Wines_seg_Frequent Buyer)            0.096495            0.248976   \n",
       "8332   (Wines_seg_Frequent Buyer)            0.122895            0.248976   \n",
       "\n",
       "        support  confidence      lift  leverage  conviction  \n",
       "2394   0.076468    0.767123  3.081115  0.051650    3.224986  \n",
       "2466   0.071461    0.762136  3.061083  0.048116    3.157367  \n",
       "2512   0.064634    0.724490  2.909879  0.042422    2.725939  \n",
       "32753  0.069185    0.716981  2.879721  0.045160    2.653619  \n",
       "8332   0.086026    0.700000  2.811517  0.055429    2.503414  "
      ]
     },
     "metadata": {},
     "execution_count": 17
    }
   ],
   "metadata": {}
  },
  {
   "cell_type": "code",
   "execution_count": 14,
   "source": [
    "wine_association.to_excel('wine_association.xlsx',index=False)\r\n"
   ],
   "outputs": [],
   "metadata": {}
  }
 ],
 "metadata": {
  "orig_nbformat": 4,
  "language_info": {
   "name": "python",
   "version": "3.8.6",
   "mimetype": "text/x-python",
   "codemirror_mode": {
    "name": "ipython",
    "version": 3
   },
   "pygments_lexer": "ipython3",
   "nbconvert_exporter": "python",
   "file_extension": ".py"
  },
  "kernelspec": {
   "name": "python3",
   "display_name": "Python 3.8.6 64-bit"
  },
  "interpreter": {
   "hash": "5fcdc2ec6892008f3bd9b93e5313873ef664f4d44edf4818986e0696990c8c99"
  }
 },
 "nbformat": 4,
 "nbformat_minor": 2
}